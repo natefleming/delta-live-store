{
 "cells": [
  {
   "cell_type": "markdown",
   "metadata": {
    "application/vnd.databricks.v1+cell": {
     "cellMetadata": {},
     "inputWidgets": {},
     "nuid": "ee353e42-ff58-4955-9608-12865bd0950e",
     "showTitle": false,
     "title": ""
    }
   },
   "source": [
    "# Default notebook\n",
    "\n",
    "This default notebook is executed using Databricks Workflows as defined in resources/delta_live_store_job.yml."
   ]
  },
  {
   "cell_type": "code",
   "execution_count": null,
   "metadata": {},
   "outputs": [],
   "source": [
    "%pip install -qr ../requirements-dev.txt \n",
    "%pip install -q --upgrade databricks-sdk\n",
    "dbutils.library.restartPython()"
   ]
  },
  {
   "cell_type": "code",
   "execution_count": null,
   "metadata": {},
   "outputs": [],
   "source": [
    "%load_ext autoreload\n",
    "%autoreload 2"
   ]
  },
  {
   "cell_type": "code",
   "execution_count": null,
   "metadata": {},
   "outputs": [],
   "source": [
    "from dbrx.dls.store import DeltaLiveStore, DeltaLiveEntity\n",
    "from dbrx.dls.filters import by_entity_id, Predicate"
   ]
  },
  {
   "cell_type": "code",
   "execution_count": null,
   "metadata": {},
   "outputs": [],
   "source": [
    "dbutils.widgets.text(\"sourcePath\", \"\")\n",
    "dbutils.widgets.text(\"destinationTable\", \"\")\n",
    "dbutils.widgets.text(\"deltaLiveStoreTable\", \"\")"
   ]
  },
  {
   "cell_type": "code",
   "execution_count": null,
   "metadata": {},
   "outputs": [],
   "source": [
    "source_path: str = dbutils.widgets.get(\"sourcePath\")\n",
    "destination_table: str = dbutils.widgets.get(\"destinationTable\")\n",
    "delta_live_store_table: str = dbutils.widgets.get(\"deltaLiveStoreTable\")\n",
    "\n",
    "print(f\"source_path: {source_path}\")\n",
    "print(f\"destination_table: {destination_table}\")\n",
    "print(f\"delta_live_store_table: {delta_live_store_table}\")\n",
    "\n",
    "if source_path is None:\n",
    "    raise ValueError(\"source_path is not set\")\n",
    "if destination_table is None:\n",
    "    raise ValueError(\"destination_table is not set\")\n",
    "if delta_live_store_table is None:\n",
    "    raise ValueError(\"delta_live_store_table is not set\")\n"
   ]
  },
  {
   "cell_type": "code",
   "execution_count": null,
   "metadata": {
    "application/vnd.databricks.v1+cell": {
     "cellMetadata": {
      "byteLimit": 2048000,
      "rowLimit": 10000
     },
     "inputWidgets": {},
     "nuid": "6bca260b-13d1-448f-8082-30b60a85c9ae",
     "showTitle": false,
     "title": ""
    }
   },
   "outputs": [],
   "source": [
    "\n",
    "def new_delta_live_entity() -> DeltaLiveEntity:\n",
    "    return DeltaLiveEntity(\n",
    "        entity_id=\"1\",\n",
    "        source=source_path,\n",
    "        destination=destination_table,\n",
    "        source_format=\"cloudFiles\",\n",
    "        read_options={\n",
    "            \"cloudFiles.format\": \"csv\",\n",
    "            \"header\": \"true\"\n",
    "        },\n",
    "    )"
   ]
  },
  {
   "cell_type": "code",
   "execution_count": null,
   "metadata": {},
   "outputs": [],
   "source": [
    "\n",
    "store: DeltaLiveStore = DeltaLiveStore(delta_live_store_table)"
   ]
  },
  {
   "cell_type": "code",
   "execution_count": null,
   "metadata": {},
   "outputs": [],
   "source": [
    "store.is_initialized()"
   ]
  },
  {
   "cell_type": "code",
   "execution_count": null,
   "metadata": {},
   "outputs": [],
   "source": [
    "store.initialize()"
   ]
  },
  {
   "cell_type": "code",
   "execution_count": null,
   "metadata": {},
   "outputs": [],
   "source": [
    "store.upsert(new_delta_live_entity())\n",
    "\n",
    "predicate: Predicate = by_entity_id(\"1\") \n",
    "display(store.find_entity(predicate))"
   ]
  }
 ],
 "metadata": {
  "application/vnd.databricks.v1+notebook": {
   "dashboards": [],
   "language": "python",
   "notebookMetadata": {
    "pythonIndentUnit": 2
   },
   "notebookName": "notebook",
   "widgets": {}
  },
  "kernelspec": {
   "display_name": "Python 3",
   "language": "python",
   "name": "python3"
  },
  "language_info": {
   "codemirror_mode": {
    "name": "ipython",
    "version": 3
   },
   "file_extension": ".py",
   "mimetype": "text/x-python",
   "name": "python",
   "nbconvert_exporter": "python",
   "pygments_lexer": "ipython3",
   "version": "3.12.3"
  }
 },
 "nbformat": 4,
 "nbformat_minor": 0
}
