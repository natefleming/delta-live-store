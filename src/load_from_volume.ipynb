{
 "cells": [
  {
   "cell_type": "markdown",
   "metadata": {
    "application/vnd.databricks.v1+cell": {
     "cellMetadata": {},
     "inputWidgets": {},
     "nuid": "ee353e42-ff58-4955-9608-12865bd0950e",
     "showTitle": false,
     "title": ""
    }
   },
   "source": [
    "# Default notebook\n",
    "\n",
    "This default notebook is executed using Databricks Workflows as defined in resources/delta_live_store_job.yml."
   ]
  },
  {
   "cell_type": "code",
   "execution_count": null,
   "metadata": {},
   "outputs": [],
   "source": [
    "%pip install -qr ../requirements-dev.txt \n",
    "%pip install -q --upgrade databricks-sdk\n",
    "dbutils.library.restartPython()"
   ]
  },
  {
   "cell_type": "code",
   "execution_count": null,
   "metadata": {},
   "outputs": [],
   "source": [
    "%load_ext autoreload\n",
    "%autoreload 2"
   ]
  },
  {
   "cell_type": "code",
   "execution_count": null,
   "metadata": {},
   "outputs": [],
   "source": [
    "from typing import Callable, List\n",
    "\n",
    "from dbrx.dls.store import DeltaLiveStore, DeltaLiveEntity, DeltaLiveEntityList\n",
    "from dbrx.dls.filters import by_is_enabled, by_is_latest, Predicate\n",
    "from dbrx.dls.loader import DeltaLiveStoreLoader, FileServiceLoader, entity_from_directory_entry, medallion_from_directory_entry"
   ]
  },
  {
   "cell_type": "code",
   "execution_count": 7,
   "metadata": {},
   "outputs": [],
   "source": [
    "dbutils.widgets.text(\"host\", \"\")\n",
    "dbutils.widgets.text(\"token\", \"\")\n",
    "dbutils.widgets.text(\"volume\", \"\")\n",
    "dbutils.widgets.text(\"host\", \"\")\n",
    "dbutils.widgets.text(\"deltaLiveStoreTable\", \"\")\n",
    "dbutils.widgets.text(\"deltaLiveStoreEntityGroup\", \"\")"
   ]
  },
  {
   "cell_type": "code",
   "execution_count": null,
   "metadata": {},
   "outputs": [],
   "source": [
    "\n",
    "host: str = dbutils.widgets.get(\"host\")\n",
    "token: str = dbutils.widgets.get(\"token\")\n",
    "volume: str = dbutils.widgets.get(\"volume\")\n",
    "delta_live_store_table: str = dbutils.widgets.get(\"deltaLiveStoreTable\")\n",
    "delta_live_store_entity_group: str = dbutils.widgets.get(\"deltaLiveStoreEntityGroup\")\n",
    "\n",
    "if not host:\n",
    "    host = spark.conf.get(\"spark.databricks.workspaceUrl\", None)\n",
    "if not token:\n",
    "    token = dbutils.notebook.entry_point.getDbutils().notebook().getContext().apiToken().get()\n",
    "\n",
    "host = host or None\n",
    "token = token or None\n",
    "volume = volume or None\n",
    "delta_live_store_table = delta_live_store_table or None\n",
    "delta_live_store_entity_group = delta_live_store_entity_group or None\n",
    "\n",
    "print(f\"host: {host}\")\n",
    "print(f\"token: {token}\")\n",
    "print(f\"volume: {volume}\")\n",
    "print(f\"delta_live_store_table: {delta_live_store_table}\")\n",
    "print(f\"delta_live_store_entity_group: {delta_live_store_entity_group}\")\n",
    "\n",
    "if host is None:\n",
    "    raise ValueError(\"host is not set\")\n",
    "if token is None:\n",
    "    raise ValueError(\"token is not set\")\n",
    "if delta_live_store_table is None:\n",
    "    raise ValueError(\"deltaLiveStoreTable is not set\")\n",
    "if volume is None:\n",
    "    raise ValueError(\"volume is not set\")"
   ]
  },
  {
   "cell_type": "code",
   "execution_count": null,
   "metadata": {},
   "outputs": [],
   "source": [
    "store: DeltaLiveStore = DeltaLiveStore(delta_live_store_table)\n",
    "store.initialize()"
   ]
  },
  {
   "cell_type": "markdown",
   "metadata": {},
   "source": []
  },
  {
   "cell_type": "code",
   "execution_count": null,
   "metadata": {},
   "outputs": [],
   "source": [
    "bronze_factory: Callable[[\"DirectoryEntry\"], List[DeltaLiveEntity]] = entity_from_directory_entry()\n",
    "medallion_factory: Callable[[\"DirectoryEntry\"], List[DeltaLiveEntity]] = medallion_from_directory_entry()\n",
    "\n",
    "loader: DeltaLiveStoreLoader = FileServiceLoader(volume, host=host, token=token, factory=medallion_factory)\n",
    "\n",
    "loader.load(store)"
   ]
  },
  {
   "cell_type": "code",
   "execution_count": null,
   "metadata": {},
   "outputs": [],
   "source": [
    "predicate: Predicate = by_is_latest() & by_is_enabled()\n",
    "entities: DeltaLiveEntityList = store.find_entities(predicate)\n",
    "display(entities.to_df())"
   ]
  }
 ],
 "metadata": {
  "application/vnd.databricks.v1+notebook": {
   "dashboards": [],
   "language": "python",
   "notebookMetadata": {
    "pythonIndentUnit": 2
   },
   "notebookName": "notebook",
   "widgets": {}
  },
  "kernelspec": {
   "display_name": "Python 3",
   "language": "python",
   "name": "python3"
  },
  "language_info": {
   "codemirror_mode": {
    "name": "ipython",
    "version": 3
   },
   "file_extension": ".py",
   "mimetype": "text/x-python",
   "name": "python",
   "nbconvert_exporter": "python",
   "pygments_lexer": "ipython3",
   "version": "3.12.3"
  }
 },
 "nbformat": 4,
 "nbformat_minor": 0
}
