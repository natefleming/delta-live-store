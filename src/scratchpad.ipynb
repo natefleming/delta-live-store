{
 "cells": [
  {
   "cell_type": "code",
   "execution_count": 0,
   "metadata": {
    "application/vnd.databricks.v1+cell": {
     "cellMetadata": {
      "byteLimit": 2048000,
      "rowLimit": 10000
     },
     "inputWidgets": {},
     "nuid": "addc116f-5afd-4c94-9128-94a49ab37b64",
     "showTitle": false,
     "title": ""
    }
   },
   "outputs": [],
   "source": [
    "%pip install -qqqr ../requirements-dev.txt\n",
    "%pip install -qqq --upgrade databricks-sdk\n",
    "dbutils.library.restartPython()"
   ]
  },
  {
   "cell_type": "code",
   "execution_count": 0,
   "metadata": {
    "application/vnd.databricks.v1+cell": {
     "cellMetadata": {
      "byteLimit": 2048000,
      "rowLimit": 10000
     },
     "inputWidgets": {},
     "nuid": "d4b3a64a-77a7-4720-99d4-a69b60319fb8",
     "showTitle": false,
     "title": ""
    }
   },
   "outputs": [],
   "source": [
    "%python\n",
    "\n",
    "\n",
    "import sys\n",
    "sys.path.append(\"./src\")\n"
   ]
  },
  {
   "cell_type": "code",
   "execution_count": 0,
   "metadata": {
    "application/vnd.databricks.v1+cell": {
     "cellMetadata": {
      "byteLimit": 2048000,
      "rowLimit": 10000
     },
     "inputWidgets": {},
     "nuid": "1ee19b9f-ff38-4f72-868c-285cb0f1817c",
     "showTitle": false,
     "title": ""
    }
   },
   "outputs": [],
   "source": [
    "metadata_table: str = \"nfleming.harbor_freight.control_table\"\n",
    "volume: str = \"/Volumes/nfleming/harbor_freight/data\"\n",
    "config_path: str = \"/Workspace/Users/nate.fleming@databricks.com/.bundle/delta_live_store/dev/files/src/sample.yml\"\n",
    "group: str = \"main.manufacturing\"\n",
    "\n",
    "spark.conf.set(\"dls.metadata_table\", metadata_table)\n",
    "spark.conf.set(\"dls.volume\", volume)\n",
    "spark.conf.set(\"dls.config_path\", config_path)\n",
    "spark.conf.set(\"dls.group\", group)"
   ]
  },
  {
   "cell_type": "code",
   "execution_count": 0,
   "metadata": {
    "application/vnd.databricks.v1+cell": {
     "cellMetadata": {
      "byteLimit": 2048000,
      "rowLimit": 10000
     },
     "inputWidgets": {},
     "nuid": "a465b494-a6e6-4932-ab64-d9d97084b605",
     "showTitle": false,
     "title": ""
    }
   },
   "outputs": [],
   "source": [
    "from dbrx.dls.store import DeltaLiveStore, DeltaLiveEntity, DeltaLiveEntityList\n",
    "from dbrx.dls.filters import *\n",
    "from dbrx.dls.loaders import DeltaLiveStoreLoader, YamlLoader, FileServiceLoader, entity_from_directory_entry, medallion_from_directory_entry\n",
    "\n",
    "store: DeltaLiveStore = DeltaLiveStore(table=metadata_table)"
   ]
  },
  {
   "cell_type": "code",
   "execution_count": 0,
   "metadata": {
    "application/vnd.databricks.v1+cell": {
     "cellMetadata": {
      "byteLimit": 2048000,
      "rowLimit": 10000
     },
     "inputWidgets": {},
     "nuid": "bbd7de01-6010-4b2a-8eca-0aa09ba51d98",
     "showTitle": false,
     "title": ""
    }
   },
   "outputs": [],
   "source": [
    "\n",
    "store.destroy()\n",
    "store.initialize()"
   ]
  },
  {
   "cell_type": "code",
   "execution_count": 0,
   "metadata": {
    "application/vnd.databricks.v1+cell": {
     "cellMetadata": {
      "byteLimit": 2048000,
      "implicitDf": true,
      "rowLimit": 10000
     },
     "inputWidgets": {},
     "nuid": "0f666c0c-fe5f-4819-99cc-4b0ff7e2f3cd",
     "showTitle": false,
     "title": ""
    }
   },
   "outputs": [],
   "source": [
    "%sql\n",
    "\n",
    "describe identifier(\"${dls.metadata_table}\")"
   ]
  },
  {
   "cell_type": "code",
   "execution_count": 0,
   "metadata": {
    "application/vnd.databricks.v1+cell": {
     "cellMetadata": {
      "byteLimit": 2048000,
      "implicitDf": true,
      "rowLimit": 10000
     },
     "inputWidgets": {},
     "nuid": "6e7ec501-070f-4a5c-ace9-a7fd3493a2fc",
     "showTitle": false,
     "title": ""
    }
   },
   "outputs": [],
   "source": [
    "%sql\n",
    "\n",
    "select * from identifier(\"${dls.metadata_table}\")"
   ]
  },
  {
   "cell_type": "code",
   "execution_count": 0,
   "metadata": {
    "application/vnd.databricks.v1+cell": {
     "cellMetadata": {
      "byteLimit": 2048000,
      "rowLimit": 10000
     },
     "inputWidgets": {},
     "nuid": "27f6b45e-72b6-4ce3-9beb-9c0bc5d1281d",
     "showTitle": false,
     "title": ""
    }
   },
   "outputs": [],
   "source": [
    "import pyspark.sql.functions as F\n",
    "\n",
    "# Generate a python list with 30 different names\n",
    "names = ['dataset1', 'dataset2', 'dataset3', 'dataset4', 'dataset5', 'dataset6', 'dataset7', 'dataset8', 'dataset9', 'dataset10',\n",
    "         'dataset11', 'dataset12', 'dataset13', 'dataset14', 'dataset15', 'dataset16', 'dataset17', 'dataset18', 'dataset19', 'dataset20',\n",
    "         'dataset21', 'dataset22', 'dataset23', 'dataset24', 'dataset25', 'dataset26', 'dataset27', 'dataset28', 'dataset29', 'dataset30']\n",
    "\n",
    "src_df = spark.read.option(\"header\", \"true\").option(\"inferSchema\", \"true\").csv(\"/Volumes/nfleming/harbor_freight/data/high_temps\")\n",
    "for name in names:\n",
    "  src_df.withColumn(\"id\", F.monotonically_increasing_id()).write.mode(\"overwrite\").option(\"header\", \"true\").csv(f\"{volume}/{name}\")\n",
    "  "
   ]
  },
  {
   "cell_type": "code",
   "execution_count": 0,
   "metadata": {
    "application/vnd.databricks.v1+cell": {
     "cellMetadata": {
      "byteLimit": 2048000,
      "implicitDf": true,
      "rowLimit": 10000
     },
     "inputWidgets": {},
     "nuid": "6c236f2c-8ee8-4fab-9233-35be8facaf21",
     "showTitle": false,
     "title": ""
    }
   },
   "outputs": [],
   "source": [
    "%sql\n",
    "\n",
    "LIST \"${dls.volume}\""
   ]
  },
  {
   "cell_type": "code",
   "execution_count": 0,
   "metadata": {
    "application/vnd.databricks.v1+cell": {
     "cellMetadata": {
      "byteLimit": 2048000,
      "rowLimit": 10000
     },
     "inputWidgets": {},
     "nuid": "81a97208-5a8d-4621-ba22-ef7b05c2b55d",
     "showTitle": false,
     "title": ""
    }
   },
   "outputs": [],
   "source": [
    "\n",
    "\n",
    "host: str = spark.conf.get(\"spark.databricks.workspaceUrl\", None)\n",
    "token: str = dbutils.notebook.entry_point.getDbutils().notebook().getContext().apiToken().get()\n",
    "loader: DeltaLiveStoreLoader = FileServiceLoader(\n",
    "  host=host, \n",
    "  token=token, \n",
    "  path=volume, \n",
    "  factory=entity_from_directory_entry(group=group))\n",
    "loader.load(store)"
   ]
  },
  {
   "cell_type": "code",
   "execution_count": 0,
   "metadata": {
    "application/vnd.databricks.v1+cell": {
     "cellMetadata": {
      "byteLimit": 2048000,
      "rowLimit": 10000
     },
     "inputWidgets": {},
     "nuid": "7259d49d-9056-486c-9084-8072a548c608",
     "showTitle": false,
     "title": ""
    }
   },
   "outputs": [],
   "source": [
    "\n",
    "loader: YamlLoader = YamlLoader(\n",
    "  path=config_path\n",
    ")\n",
    "loader.load(store)\n"
   ]
  },
  {
   "cell_type": "code",
   "execution_count": 0,
   "metadata": {
    "application/vnd.databricks.v1+cell": {
     "cellMetadata": {
      "byteLimit": 2048000,
      "rowLimit": 10000
     },
     "inputWidgets": {},
     "nuid": "702c1fc5-658d-45da-b5b7-d9ad98f09bd6",
     "showTitle": false,
     "title": ""
    }
   },
   "outputs": [],
   "source": [
    "\n",
    "display(store.find_entities(by_is_enabled() & by_is_latest()).to_df())"
   ]
  },
  {
   "cell_type": "code",
   "execution_count": 0,
   "metadata": {
    "application/vnd.databricks.v1+cell": {
     "cellMetadata": {
      "byteLimit": 2048000,
      "implicitDf": true,
      "rowLimit": 10000
     },
     "inputWidgets": {},
     "nuid": "5e4c75f3-4baa-4fcf-80a9-e1fa50bf4874",
     "showTitle": false,
     "title": ""
    }
   },
   "outputs": [],
   "source": [
    "%sql\n",
    "\n",
    "select entity_id, expectations, is_quarantined, is_streaming, is_enabled from identifier(\"${dls.metadata_table}\") where is_latest;"
   ]
  },
  {
   "cell_type": "code",
   "execution_count": 0,
   "metadata": {
    "application/vnd.databricks.v1+cell": {
     "cellMetadata": {
      "byteLimit": 2048000,
      "implicitDf": true,
      "rowLimit": 10000
     },
     "inputWidgets": {},
     "nuid": "124f9b1e-6574-41dc-815f-659fb6db12c5",
     "showTitle": false,
     "title": ""
    }
   },
   "outputs": [],
   "source": [
    "%sql\n",
    "\n",
    "select * from identifier(\"${dls.metadata_table}\")"
   ]
  },
  {
   "cell_type": "code",
   "execution_count": 0,
   "metadata": {
    "application/vnd.databricks.v1+cell": {
     "cellMetadata": {
      "byteLimit": 2048000,
      "rowLimit": 10000
     },
     "inputWidgets": {},
     "nuid": "d6dc92a6-9f47-48a7-b39c-ed86a4d69d72",
     "showTitle": false,
     "title": ""
    }
   },
   "outputs": [],
   "source": [
    "store.destroy()"
   ]
  },
  {
   "cell_type": "code",
   "execution_count": 0,
   "metadata": {
    "application/vnd.databricks.v1+cell": {
     "cellMetadata": {
      "byteLimit": 2048000,
      "rowLimit": 10000
     },
     "inputWidgets": {},
     "nuid": "04a6d434-761e-49e0-84ff-2b45a4a4bec5",
     "showTitle": false,
     "title": ""
    }
   },
   "outputs": [],
   "source": [
    "from dbrx.dls.filters import by_is_enabled\n",
    "\n",
    "display(store.find_entity(by_is_enabled()))"
   ]
  },
  {
   "cell_type": "code",
   "execution_count": 0,
   "metadata": {
    "application/vnd.databricks.v1+cell": {
     "cellMetadata": {
      "byteLimit": 2048000,
      "rowLimit": 10000
     },
     "inputWidgets": {},
     "nuid": "c746800c-4d77-4bd8-96b0-241cc3ce45a8",
     "showTitle": false,
     "title": ""
    }
   },
   "outputs": [],
   "source": [
    "from dbrx.dls.filters import *\n",
    "\n",
    "display(store.find_entities(by_is_enabled() & by_is_latest() & by_group(group)).to_df())\n"
   ]
  }
 ],
 "metadata": {
  "application/vnd.databricks.v1+notebook": {
   "dashboards": [],
   "language": "python",
   "notebookMetadata": {
    "mostRecentlyExecutedCommandWithImplicitDF": {
     "commandId": 362125123501894,
     "dataframes": [
      "_sqldf"
     ]
    },
    "pythonIndentUnit": 2
   },
   "notebookName": "scratchpad",
   "widgets": {}
  }
 },
 "nbformat": 4,
 "nbformat_minor": 0
}
