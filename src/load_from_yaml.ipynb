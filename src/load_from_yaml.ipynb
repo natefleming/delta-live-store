{
 "cells": [
  {
   "cell_type": "markdown",
   "metadata": {
    "application/vnd.databricks.v1+cell": {
     "cellMetadata": {},
     "inputWidgets": {},
     "nuid": "ee353e42-ff58-4955-9608-12865bd0950e",
     "showTitle": false,
     "title": ""
    }
   },
   "source": [
    "# Default notebook\n",
    "\n",
    "This default notebook is executed using Databricks Workflows as defined in resources/delta_live_store_job.yml."
   ]
  },
  {
   "cell_type": "code",
   "execution_count": null,
   "metadata": {},
   "outputs": [],
   "source": [
    "%pip install -qr ../requirements-dev.txt \n",
    "%pip install -q --upgrade databricks-sdk\n",
    "dbutils.library.restartPython()"
   ]
  },
  {
   "cell_type": "code",
   "execution_count": null,
   "metadata": {},
   "outputs": [],
   "source": [
    "%load_ext autoreload\n",
    "%autoreload 2"
   ]
  },
  {
   "cell_type": "code",
   "execution_count": null,
   "metadata": {},
   "outputs": [],
   "source": [
    "from dbrx.dls.store import DeltaLiveStore, DeltaLiveEntity\n",
    "from dbrx.dls.filters import by_is_enabled, by_is_latest, Predicate\n",
    "from dbrx.dls.loader import DeltaLiveStoreLoader, YamlLoader"
   ]
  },
  {
   "cell_type": "code",
   "execution_count": null,
   "metadata": {},
   "outputs": [],
   "source": [
    "dbutils.widgets.text(\"configPath\", \"\")\n",
    "dbutils.widgets.text(\"deltaLiveStoreTable\", \"\")"
   ]
  },
  {
   "cell_type": "code",
   "execution_count": null,
   "metadata": {},
   "outputs": [],
   "source": [
    "config_path: str = dbutils.widgets.get(\"configPath\")\n",
    "delta_live_store_table: str = dbutils.widgets.get(\"deltaLiveStoreTable\")\n",
    "\n",
    "config_path = config_path or None\n",
    "delta_live_store_table = delta_live_store_table or None\n",
    "\n",
    "print(f\"config_path: {config_path}\")\n",
    "print(f\"delta_live_store_table: {delta_live_store_table}\")\n",
    "\n",
    "if config_path is None:\n",
    "    raise ValueError(\"config_path is not set\")\n",
    "if delta_live_store_table is None:\n",
    "    raise ValueError(\"delta_live_store_table is not set\")\n"
   ]
  },
  {
   "cell_type": "code",
   "execution_count": null,
   "metadata": {},
   "outputs": [],
   "source": [
    "store: DeltaLiveStore = DeltaLiveStore(delta_live_store_table)\n",
    "store.initialize()\n",
    "loader: DeltaLiveStoreLoader = YamlLoader(config_path)\n",
    "loader.load(store)"
   ]
  },
  {
   "cell_type": "code",
   "execution_count": null,
   "metadata": {},
   "outputs": [],
   "source": [
    "\n",
    "predicate: Predicate = by_is_latest() & by_is_enabled()\n",
    "display(store.find_entities(predicate).to_df())"
   ]
  }
 ],
 "metadata": {
  "application/vnd.databricks.v1+notebook": {
   "dashboards": [],
   "language": "python",
   "notebookMetadata": {
    "pythonIndentUnit": 2
   },
   "notebookName": "notebook",
   "widgets": {}
  },
  "kernelspec": {
   "display_name": "Python 3",
   "language": "python",
   "name": "python3"
  },
  "language_info": {
   "codemirror_mode": {
    "name": "ipython",
    "version": 3
   },
   "file_extension": ".py",
   "mimetype": "text/x-python",
   "name": "python",
   "nbconvert_exporter": "python",
   "pygments_lexer": "ipython3",
   "version": "3.12.3"
  }
 },
 "nbformat": 4,
 "nbformat_minor": 0
}
