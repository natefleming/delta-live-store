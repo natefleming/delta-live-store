{
 "cells": [
  {
   "cell_type": "markdown",
   "metadata": {
    "application/vnd.databricks.v1+cell": {
     "cellMetadata": {},
     "inputWidgets": {},
     "nuid": "9a626959-61c8-4bba-84d2-2a4ecab1f7ec",
     "showTitle": false,
     "title": ""
    }
   },
   "source": [
    "# DLT pipeline\n",
    "\n",
    "This Delta Live Tables (DLT) definition is executed using a pipeline defined in resources/delta_live_store_pipeline.yml."
   ]
  },
  {
   "cell_type": "code",
   "execution_count": 1,
   "metadata": {
    "application/vnd.databricks.v1+cell": {
     "cellMetadata": {},
     "inputWidgets": {},
     "nuid": "9198e987-5606-403d-9f6d-8f14e6a4017f",
     "showTitle": false,
     "title": ""
    }
   },
   "outputs": [],
   "source": [
    "# Import DLT and src/dlt_control\n",
    "import sys\n",
    "sys.path.append(spark.conf.get(\"bundle.sourcePath\", \".\"))\n",
    "\n",
    "\n",
    "from dbrx.dls.store import DeltaLiveStore\n",
    "from dbrx.dls.filters import by_is_enabled, by_is_latest, by_group\n",
    "from dbrx.dls.pipeline import DeltaLiveStorePipeline"
   ]
  },
  {
   "cell_type": "code",
   "execution_count": null,
   "metadata": {},
   "outputs": [],
   "source": [
    "\n",
    "delta_live_store_table: str = (\n",
    "    spark.conf.get(\"bundle.deltaLiveStoreTable\", None)\n",
    ")\n",
    "delta_live_store_table = delta_live_store_table if delta_live_store_table else None\n",
    "\n",
    "if delta_live_store_table is None:\n",
    "    raise ValueError(\"bundle.deltaLiveStoreTable is not set\")\n",
    "\n",
    "delta_live_store_entity_group: str = (\n",
    "    spark.conf.get(\"bundle.deltaLiveStoreEntityGroup\", None)\n",
    ")\n",
    "delta_live_store_entity_group = delta_live_store_entity_group if delta_live_store_entity_group else None\n",
    "\n",
    "store: DeltaLiveStore = DeltaLiveStore(table=delta_live_store_table, spark=spark)\n",
    "pipeline: DeltaLiveStorePipeline = (\n",
    "    DeltaLiveStorePipeline(store)\n",
    "        .with_filter(by_is_enabled() & by_is_latest() & by_group(delta_live_store_entity_group))\n",
    ")\n",
    "pipeline.run()"
   ]
  }
 ],
 "metadata": {
  "application/vnd.databricks.v1+notebook": {
   "dashboards": [],
   "language": "python",
   "notebookMetadata": {
    "pythonIndentUnit": 2
   },
   "notebookName": "dlt_pipeline",
   "widgets": {}
  },
  "kernelspec": {
   "display_name": "Python 3",
   "language": "python",
   "name": "python3"
  },
  "language_info": {
   "codemirror_mode": {
    "name": "ipython",
    "version": 3
   },
   "file_extension": ".py",
   "mimetype": "text/x-python",
   "name": "python",
   "nbconvert_exporter": "python",
   "pygments_lexer": "ipython3",
   "version": "3.12.3"
  }
 },
 "nbformat": 4,
 "nbformat_minor": 0
}
